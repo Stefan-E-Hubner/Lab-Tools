{
 "cells": [
  {
   "cell_type": "code",
   "execution_count": 1,
   "metadata": {},
   "outputs": [],
   "source": [
    "def dose(Mf=50*10**(-9), Vf=0.6*10**(-3), Vv=2*10**(-6), rep=100, Mi=100*10**(-6)):\n",
    "\n",
    "    # Created: June 30, 2021\n",
    "    # Last updated: Sep. 21, 2021\n",
    "    # Author: Stefan Hubner\n",
    "    # Title: Dose\n",
    "    # Purpose: Primary stock solution --> Secondary stock solution --> administration of therapeutic  \n",
    "\n",
    "    # Use standard units (L = liters, M = mol/L)\n",
    "\n",
    "    # Inputs:\n",
    "    # Mf = [M] = final concentration of therapeutic within the experimental condition\n",
    "                       # nM = 10**(-9)\n",
    "    # Mi = [M] = iniitial concentration of therapeutic (primary stock solution)\n",
    "                       # mM = 10**(-3)\n",
    "    # Vf = [L] = final volume of experimental condition \n",
    "    # Vv = [L] = volume of vehicle (containing therapeutic) administered to experimental condition \n",
    "                       # uM = 10**(-6)\n",
    "    # rep = [#] = number of replicates (calculated as number of wells needed * 1.25 * 3 (for running exp three times))\n",
    "\n",
    "    # Returns:\n",
    "    # stock = label for stock solution concentration\n",
    "    # Vi = initial volume of therapeutic needed to make a stock solution\n",
    "    \n",
    "    import math \n",
    "    import numpy as np\n",
    "\n",
    "    Vv_uL = Vv*10**6\n",
    "    stock = Mf*Vf/Vv\n",
    "    Vi = (Vv*rep*stock/Mi)\n",
    "    dmso = Vv*rep-Vi\n",
    "    stock_uM = stock*10**6\n",
    "    Vi_uL = Vi*10**6\n",
    "    dmso_uL = dmso*10**6\n",
    "    vol = rep*Vv*10**6\n",
    "    \n",
    "    print()\n",
    "    print('------------------------------------------------------------------------------')  \n",
    "    print('Prepare Secondary Stock Solution (SSS) for ' + str(round(Mf,20))\n",
    "          + ' M experimental condition:')\n",
    "    print('------------------------------------------------------------------------------')    \n",
    "    print()\n",
    "    print('Start with the following volume of Vehicle/DMSO  (uL):   ' + str(round(dmso_uL,2)))\n",
    "    print('Add the following volume of Primary Stock        (uL):   ' + str(round(Vi_uL,2)))\n",
    "    print('Total Volume of SSS                              (uL):   ' + str(round(vol,2)))\n",
    "    print()\n",
    "    print('Label for SSS                                    (uM):   ' + str(round(stock_uM,2)))\n",
    "    print()\n",
    "    print('------------------------------------------------------------------------------')\n",
    "    print('Administer ' + str(round(Vv_uL,2))\n",
    "          + ' uL of SSS to each replicate at this experimental condition.')\n",
    "    print('------------------------------------------------------------------------------')\n",
    "    print()\n",
    "    \n",
    "    return "
   ]
  },
  {
   "cell_type": "code",
   "execution_count": 10,
   "metadata": {},
   "outputs": [
    {
     "name": "stdout",
     "output_type": "stream",
     "text": [
      "\n",
      "------------------------------------------------------------------------------\n",
      "Prepare Secondary Stock Solution (SSS) for 0.002 M experimental condition:\n",
      "------------------------------------------------------------------------------\n",
      "\n",
      "Start with the following volume of Vehicle/DMSO  (uL):   16.0\n",
      "Add the following volume of Primary Stock        (uL):   24.0\n",
      "Total Volume of SSS                              (uL):   40.0\n",
      "\n",
      "Label for SSS                                    (uM):   600000.0\n",
      "\n",
      "------------------------------------------------------------------------------\n",
      "Administer 2.0 uL of SSS to each replicate at this experimental condition.\n",
      "------------------------------------------------------------------------------\n",
      "\n"
     ]
    }
   ],
   "source": [
    "dose(Mf=2*10**(-3), Vf=0.6*10**(-3), Vv=2*10**(-6), rep=8*1.25*2, Mi=1000*10**(-3))\n",
    "\n",
    "    # Use standard units (L = liters, M = mol/L)\n",
    "\n",
    "    # Inputs:\n",
    "    # Mf = [M] = final concentration of therapeutic within the experimental condition\n",
    "                       # nM = 10**(-9)\n",
    "                       # uM = 10**(-6)\n",
    "    # Vf = [L] = final volume of experimental condition \n",
    "                       # mL = 10**(-3)\n",
    "    # Vv = [L] = volume of vehicle (containing therapeutic) administered to experimental condition \n",
    "                       # uL = 10**(-6)\n",
    "    # Mi = [M] = iniitial concentration of therapeutic (primary stock solution)\n",
    "                       # mM = 10**(-3)        \n",
    "    # rep = [#] = number of replicates (calculated as number of wells (for this specific treatment!!)\n",
    "    #                                                needed * 1.25 * 3 (for running exp three times))"
   ]
  },
  {
   "cell_type": "code",
   "execution_count": null,
   "metadata": {},
   "outputs": [],
   "source": []
  }
 ],
 "metadata": {
  "kernelspec": {
   "display_name": "Python 3 (ipykernel)",
   "language": "python",
   "name": "python3"
  },
  "language_info": {
   "codemirror_mode": {
    "name": "ipython",
    "version": 3
   },
   "file_extension": ".py",
   "mimetype": "text/x-python",
   "name": "python",
   "nbconvert_exporter": "python",
   "pygments_lexer": "ipython3",
   "version": "3.7.7"
  }
 },
 "nbformat": 4,
 "nbformat_minor": 4
}
